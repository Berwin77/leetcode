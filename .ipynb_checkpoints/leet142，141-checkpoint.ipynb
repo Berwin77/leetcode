{
 "cells": [
  {
   "cell_type": "code",
   "execution_count": null,
   "metadata": {
    "collapsed": true
   },
   "outputs": [],
   "source": [
    "# Definition for singly-linked list.\n",
    "# class ListNode(object):\n",
    "#     def __init__(self, x):\n",
    "#         self.val = x\n",
    "#         self.next = None\n",
    "\n",
    "class Solution(object):\n",
    "    def detectCycle(self, head):\n",
    "        \"\"\"\n",
    "        :type head: ListNode\n",
    "        :rtype: ListNode\n",
    "        \"\"\"\n",
    "        fast = head \n",
    "        slow = head\n",
    "        restart = head\n",
    "        meet = None\n",
    "        while fast:\n",
    "            slow = slow.next\n",
    "            fast = fast.next\n",
    "            if fast is None:\n",
    "                return None\n",
    "            fast = fast.next\n",
    "            if fast == slow:\n",
    "                meet = fast\n",
    "                break\n",
    "        if meet is None:\n",
    "            return None\n",
    "        else:\n",
    "            while meet != restart:\n",
    "                meet = meet.next\n",
    "                restart = restart.next\n",
    "            return restart\n",
    "            "
   ]
  }
 ],
 "metadata": {
  "kernelspec": {
   "display_name": "Python 3",
   "language": "python",
   "name": "python3"
  },
  "language_info": {
   "codemirror_mode": {
    "name": "ipython",
    "version": 3
   },
   "file_extension": ".py",
   "mimetype": "text/x-python",
   "name": "python",
   "nbconvert_exporter": "python",
   "pygments_lexer": "ipython3",
   "version": "3.6.3"
  }
 },
 "nbformat": 4,
 "nbformat_minor": 2
}
