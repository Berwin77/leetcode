{
 "cells": [
  {
   "cell_type": "code",
   "execution_count": 17,
   "metadata": {},
   "outputs": [
    {
     "name": "stdout",
     "output_type": "stream",
     "text": [
      "77\n",
      "66\n",
      "55\n",
      "88\n"
     ]
    }
   ],
   "source": [
    "class jd:\n",
    "    def __init__(self, data):\n",
    "        self.data = data\n",
    "        self.next = None\n",
    "class Solution:\n",
    "    def reverseBetween(self, head, m, n):\n",
    "        \"\"\"\n",
    "        :type head: ListNode\n",
    "        :type m: int\n",
    "        :type n: int\n",
    "        :rtype: ListNode\n",
    "        \"\"\"\n",
    "        prenode = None\n",
    "        result = head\n",
    "        i = 1\n",
    "        while head and i < m:\n",
    "            prenode = head\n",
    "            head = head.next\n",
    "            i += 1\n",
    "        curnode = head\n",
    "        changelen = n-m+1\n",
    "        newnode = None\n",
    "        while head and changelen:\n",
    "            temp = head.next\n",
    "            head.next = newnode\n",
    "            newnode = head\n",
    "            head = temp\n",
    "            changelen -= 1\n",
    "        laternode = head\n",
    "        curnode.next = laternode\n",
    "        if prenode:##链接链逆置前一位的节点和逆置后第一位的节点\n",
    "            prenode.next = newnode\n",
    "        else:##更新链表头结点\n",
    "            result = newnode\n",
    "        return result\n",
    "a = jd(55)\n",
    "b = jd(66)\n",
    "c = jd(77)\n",
    "d = jd(88)\n",
    "a.next = b\n",
    "b.next = c\n",
    "c.next = d\n",
    "m = Solution()\n",
    "f = m.reverseBetween(a, 1, 3)\n",
    "while f:\n",
    "    print(f.data)\n",
    "    f = f.next"
   ]
  },
  {
   "cell_type": "code",
   "execution_count": null,
   "metadata": {
    "collapsed": true
   },
   "outputs": [],
   "source": []
  }
 ],
 "metadata": {
  "kernelspec": {
   "display_name": "Python 3",
   "language": "python",
   "name": "python3"
  },
  "language_info": {
   "codemirror_mode": {
    "name": "ipython",
    "version": 3
   },
   "file_extension": ".py",
   "mimetype": "text/x-python",
   "name": "python",
   "nbconvert_exporter": "python",
   "pygments_lexer": "ipython3",
   "version": "3.6.3"
  }
 },
 "nbformat": 4,
 "nbformat_minor": 2
}
